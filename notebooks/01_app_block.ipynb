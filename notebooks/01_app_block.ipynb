{
 "cells": [
  {
   "cell_type": "code",
   "execution_count": 138,
   "id": "98cee56f",
   "metadata": {},
   "outputs": [],
   "source": [
    "from dotenv import load_dotenv\n",
    "import os\n",
    "from openai import OpenAI\n",
    "from composio_openai import ComposioToolSet, Action\n",
    "import re\n",
    "from datetime import datetime, timedelta\n",
    "import dateparser\n",
    "import tzlocal\n",
    "from dateutil import parser as dateutil_parser"
   ]
  },
  {
   "cell_type": "code",
   "execution_count": 139,
   "id": "eb1df3cc",
   "metadata": {},
   "outputs": [],
   "source": [
    "def expand_time_phrases(prompt):\n",
    "    match = re.search(r'from (\\d{1,2}(?::\\d{2})?\\s*[ap]m)\\s*to\\s*(\\d{1,2}(?::\\d{2})?\\s*[ap]m)', prompt, re.I)\n",
    "    if not match:\n",
    "        return prompt\n",
    "    start_str, end_str = match.groups()\n",
    "    local_tz = tzlocal.get_localzone()\n",
    "    print(\"Detected local timezone:\", local_tz)\n",
    "    now = datetime.now(local_tz)\n",
    "    today_base = now.replace(hour=0, minute=0, second=0, microsecond=0)\n",
    "    start_dt = dateutil_parser.parse(start_str, default=today_base)\n",
    "    end_dt = dateutil_parser.parse(end_str, default=today_base)\n",
    "    if start_dt.tzinfo is None:\n",
    "        start_dt = local_tz.localize(start_dt)\n",
    "    if end_dt.tzinfo is None:\n",
    "        end_dt = local_tz.localize(end_dt)\n",
    "    print(\"DEBUG: start_dt\", start_dt, \"end_dt\", end_dt)\n",
    "    start_iso = start_dt.isoformat(timespec='minutes')\n",
    "    end_iso = end_dt.isoformat(timespec='minutes')\n",
    "    # Remove any \"am\"/\"pm\" after replacement to avoid parsing confusion\n",
    "    new_prompt = re.sub(\n",
    "        r'from (\\d{1,2}(?::\\d{2})?\\s*[ap]m)\\s*to\\s*(\\d{1,2}(?::\\d{2})?\\s*[ap]m)',\n",
    "        f\"from {start_iso} to {end_iso}\",\n",
    "        prompt\n",
    "    )\n",
    "    return new_prompt"
   ]
  },
  {
   "cell_type": "code",
   "execution_count": 140,
   "id": "6566e1fd",
   "metadata": {},
   "outputs": [
    {
     "data": {
      "text/plain": [
       "True"
      ]
     },
     "execution_count": 140,
     "metadata": {},
     "output_type": "execute_result"
    }
   ],
   "source": [
    "load_dotenv() "
   ]
  },
  {
   "cell_type": "code",
   "execution_count": 141,
   "id": "c93d5ace",
   "metadata": {},
   "outputs": [],
   "source": [
    "composio_key = os.environ.get(\"COMPOSIO_API_KEY\")\n",
    "openai_key = os.environ.get(\"OPENAI_API_KEY\")"
   ]
  },
  {
   "cell_type": "code",
   "execution_count": 142,
   "id": "c9fc9dc9",
   "metadata": {},
   "outputs": [
    {
     "name": "stdout",
     "output_type": "stream",
     "text": [
      "Composio key loaded: True\n",
      "OpenAI key loaded: True\n"
     ]
    }
   ],
   "source": [
    "print(\"Composio key loaded:\", bool(composio_key))\n",
    "print(\"OpenAI key loaded:\", bool(openai_key))"
   ]
  },
  {
   "cell_type": "code",
   "execution_count": 143,
   "id": "cb678f06",
   "metadata": {},
   "outputs": [],
   "source": [
    "# Initialize OpenAI client\n",
    "openai_client = OpenAI(api_key=openai_key)"
   ]
  },
  {
   "cell_type": "code",
   "execution_count": 144,
   "id": "9b038744",
   "metadata": {},
   "outputs": [],
   "source": [
    "# Initialize the Composio Tool Set\n",
    "composio_tool_set = ComposioToolSet(api_key=composio_key)"
   ]
  },
  {
   "cell_type": "code",
   "execution_count": 145,
   "id": "233a4aca",
   "metadata": {},
   "outputs": [],
   "source": [
    "tools = composio_tool_set.get_tools(\n",
    "    actions=[Action.GITHUB_STAR_A_REPOSITORY_FOR_THE_AUTHENTICATED_USER,\n",
    "             Action.GOOGLECALENDAR_CREATE_EVENT\n",
    "    ]\n",
    ")"
   ]
  },
  {
   "cell_type": "code",
   "execution_count": 146,
   "id": "9a09346d",
   "metadata": {},
   "outputs": [],
   "source": [
    "user_prompt = (\"Create a Google Calendar event called 'meeting: product direction and price discussion', \"\n",
    "\"time: today from 4 pm to 6 pm, \"\n",
    "\"description: 'showcase project progress and updates',\"\n",
    "\"attendees: jay20020109@gmail.com, mh989@cornell.edu, z00183@mpinfo.com.tw.\"\n",
    ")"
   ]
  },
  {
   "cell_type": "code",
   "execution_count": 147,
   "id": "e8dc1704",
   "metadata": {},
   "outputs": [
    {
     "name": "stdout",
     "output_type": "stream",
     "text": [
      "Detected local timezone: Etc/UTC\n",
      "DEBUG: start_dt 2025-06-12 16:00:00+00:00 end_dt 2025-06-12 18:00:00+00:00\n",
      "DEBUG: Create a Google Calendar event called 'meeting: product direction and price discussion', time: today from 2025-06-12T16:00+00:00 to 2025-06-12T18:00+00:00, description: 'showcase project progress and updates',attendees: jay20020109@gmail.com, mh989@cornell.edu, z00183@mpinfo.com.tw.\n"
     ]
    }
   ],
   "source": [
    "expanded = expand_time_phrases(user_prompt)\n",
    "print(\"DEBUG:\", expanded)"
   ]
  },
  {
   "cell_type": "code",
   "execution_count": 148,
   "id": "d8f79c92",
   "metadata": {},
   "outputs": [
    {
     "name": "stdout",
     "output_type": "stream",
     "text": [
      "Detected local timezone: Etc/UTC\n",
      "DEBUG: start_dt 2025-06-12 16:00:00+00:00 end_dt 2025-06-12 18:00:00+00:00\n"
     ]
    }
   ],
   "source": [
    "#Expand the time phrases in the prompt\n",
    "my_task = expand_time_phrases(user_prompt)"
   ]
  },
  {
   "cell_type": "code",
   "execution_count": 149,
   "id": "b2548723",
   "metadata": {},
   "outputs": [],
   "source": [
    "assistant_instruction = \"You are a super intelligent personal assistant\"\n",
    "assistant = openai_client.beta.assistants.create(\n",
    "    name=\"Personal Assistant\",\n",
    "    instructions=assistant_instruction,\n",
    "    model=\"gpt-4-turbo\",\n",
    "    tools=tools,\n",
    ")"
   ]
  },
  {
   "cell_type": "code",
   "execution_count": 150,
   "id": "fc533311",
   "metadata": {},
   "outputs": [
    {
     "name": "stderr",
     "output_type": "stream",
     "text": [
      "/tmp/ipykernel_5270/3829351525.py:1: DeprecationWarning: The Assistants API is deprecated in favor of the Responses API\n",
      "  thread = openai_client.beta.threads.create()\n"
     ]
    }
   ],
   "source": [
    "thread = openai_client.beta.threads.create()"
   ]
  },
  {
   "cell_type": "code",
   "execution_count": 151,
   "id": "b7166854",
   "metadata": {},
   "outputs": [
    {
     "name": "stderr",
     "output_type": "stream",
     "text": [
      "/tmp/ipykernel_5270/4100934983.py:1: DeprecationWarning: The Assistants API is deprecated in favor of the Responses API\n",
      "  message = openai_client.beta.threads.messages.create(\n"
     ]
    }
   ],
   "source": [
    "message = openai_client.beta.threads.messages.create(\n",
    "    thread_id=thread.id,\n",
    "    role=\"user\",\n",
    "    content=my_task\n",
    ")"
   ]
  },
  {
   "cell_type": "code",
   "execution_count": 152,
   "id": "6d31c46b",
   "metadata": {},
   "outputs": [
    {
     "name": "stderr",
     "output_type": "stream",
     "text": [
      "/tmp/ipykernel_5270/2438797514.py:1: DeprecationWarning: The Assistants API is deprecated in favor of the Responses API\n",
      "  run = openai_client.beta.threads.runs.create(\n"
     ]
    }
   ],
   "source": [
    "run = openai_client.beta.threads.runs.create(\n",
    "    thread_id=thread.id,\n",
    "    assistant_id=assistant.id\n",
    ")"
   ]
  },
  {
   "cell_type": "code",
   "execution_count": 153,
   "id": "a1af8fd8",
   "metadata": {},
   "outputs": [],
   "source": [
    "response_after_tool_calls = composio_tool_set.wait_and_handle_assistant_tool_calls(\n",
    "    client=openai_client,\n",
    "    run=run,\n",
    "    thread=thread,\n",
    ")"
   ]
  },
  {
   "cell_type": "code",
   "execution_count": 154,
   "id": "405397ad",
   "metadata": {},
   "outputs": [
    {
     "name": "stdout",
     "output_type": "stream",
     "text": [
      "Run(id='run_oVTfTlvnasAIctL5Ot9fomKX', assistant_id='asst_Jydmy6PAKvRwy0rXCUgdOoeU', cancelled_at=None, completed_at=1749713356, created_at=1749713341, expires_at=None, failed_at=None, incomplete_details=None, instructions='You are a super intelligent personal assistant', last_error=None, max_completion_tokens=None, max_prompt_tokens=None, metadata={}, model='gpt-4-turbo', object='thread.run', parallel_tool_calls=True, required_action=None, response_format='auto', started_at=1749713352, status='completed', thread_id='thread_Kb78nIZ5vFpsHpI9PgWFPpqA', tool_choice='auto', tools=[FunctionTool(function=FunctionDefinition(name='GITHUB_STAR_A_REPOSITORY_FOR_THE_AUTHENTICATED_USER', description='Stars an existing and accessible repository for the authenticated user; this action is idempotent and succeeds even if the repository is already starred.', parameters={'properties': {'owner': {'description': 'The username of the account that owns the repository. This field is not case-sensitive. Please provide a value of type string. This parameter is required.', 'examples': ['octocat', 'torvalds'], 'title': 'Owner', 'type': 'string'}, 'repo': {'description': 'The name of the repository, without the `.git` extension. This field is not case-sensitive. Please provide a value of type string. This parameter is required.', 'examples': ['hello-world', 'linux'], 'title': 'Repo', 'type': 'string'}}, 'title': 'StarARepositoryForTheAuthenticatedUserRequest', 'type': 'object', 'required': ['owner', 'repo']}, strict=False), type='function'), FunctionTool(function=FunctionDefinition(name='GOOGLECALENDAR_CREATE_EVENT', description='Creates an event on a google calendar, needing rfc3339 utc start/end times (end after start) and write access to the calendar.', parameters={'properties': {'attendees': {'default': None, 'description': 'List of attendee emails (strings).', 'items': {'type': 'string'}, 'title': 'Attendees', 'type': 'array'}, 'calendar_id': {'default': 'primary', 'description': \"Target calendar: 'primary' for the user's main calendar, or the calendar's email address. Please provide a value of type string.\", 'examples': ['primary', 'user@example.com', 'abcdefghijklmnopqrstuvwxyz@group.calendar.google.com'], 'title': 'Calendar Id', 'type': 'string'}, 'create_meeting_room': {'default': None, 'description': \"If true, a Google Meet link is created and added to the event. CRITICAL: As of 2024, this REQUIRES a paid Google Workspace account ($13+/month). Personal Gmail accounts will fail with 'Invalid conference type value' error. Solutions: 1) Upgrade to Workspace, 2) Use domain-wide delegation with Workspace user, 3) Use the new Google Meet REST API, or 4) Create events without conferences. See https://github.com/googleapis/google-api-nodejs-client/issues/3234. Please provide a value of type boolean.\", 'title': 'Create Meeting Room', 'type': 'boolean'}, 'description': {'default': None, 'description': 'Description of the event. Can contain HTML. Optional. Please provide a value of type string.', 'title': 'Description', 'type': 'string'}, 'eventType': {'default': 'default', 'description': \"Type of the event, immutable post-creation. Currently, only 'default' and 'workingLocation' can be created. Please provide a value of type string.\", 'enum': ['default', 'outOfOffice', 'focusTime', 'workingLocation'], 'title': 'Event Type', 'type': 'string'}, 'event_duration_hour': {'default': 0, 'description': 'Number of hours (0-24). Increase by 1 here rather than passing 60 in `event_duration_minutes`. Please provide a value of type integer.', 'maximum': 24, 'minimum': 0, 'title': 'Event Duration Hour', 'type': 'integer'}, 'event_duration_minutes': {'default': 30, 'description': 'Number of minutes (0-59). Make absolutely sure this is less than 60. Please provide a value of type integer.', 'maximum': 59, 'minimum': 0, 'title': 'Event Duration Minutes', 'type': 'integer'}, 'guestsCanInviteOthers': {'default': None, 'description': 'Whether attendees other than the organizer can invite others to the event. Please provide a value of type boolean.', 'title': 'Guests Can Invite Others', 'type': 'boolean'}, 'guestsCanSeeOtherGuests': {'default': None, 'description': \"Whether attendees other than the organizer can see who the event's attendees are. Please provide a value of type boolean.\", 'title': 'Guests Can See Other Guests', 'type': 'boolean'}, 'guests_can_modify': {'default': False, 'description': 'If True, guests can modify the event. Please provide a value of type boolean.', 'title': 'Guests Can Modify', 'type': 'boolean'}, 'location': {'default': None, 'description': 'Geographic location of the event as free-form text. Please provide a value of type string.', 'title': 'Location', 'type': 'string'}, 'recurrence': {'default': None, 'description': 'List of RRULE, EXRULE, RDATE, EXDATE lines for recurring events.', 'items': {'type': 'string'}, 'title': 'Recurrence', 'type': 'array'}, 'send_updates': {'default': None, 'description': 'Defaults to True. Whether to send updates to the attendees. Please provide a value of type boolean.', 'title': 'Send Updates', 'type': 'boolean'}, 'start_datetime': {'description': \"Naive date/time (YYYY-MM-DDTHH:MM:SS) with NO offsets or Z. e.g. '2025-01-16T13:00:00'. Please provide a value of type string. This parameter is required.\", 'title': 'Start Datetime', 'type': 'string'}, 'summary': {'default': None, 'description': 'Summary (title) of the event. Please provide a value of type string.', 'title': 'Summary', 'type': 'string'}, 'timezone': {'default': None, 'description': \"IANA timezone name (e.g., 'America/New_York'). Required if datetime is naive. If datetime includes timezone info (Z or offset), this field is optional and defaults to UTC. Please provide a value of type string.\", 'title': 'Timezone', 'type': 'string'}, 'transparency': {'default': 'opaque', 'description': \"'opaque' (busy) or 'transparent' (available). Please provide a value of type string.\", 'enum': ['opaque', 'transparent'], 'title': 'Transparency', 'type': 'string'}, 'visibility': {'default': 'default', 'description': \"Event visibility: 'default', 'public', 'private', or 'confidential'. Please provide a value of type string.\", 'enum': ['default', 'public', 'private', 'confidential'], 'title': 'Visibility', 'type': 'string'}}, 'title': 'CreateEventRequest', 'type': 'object', 'required': ['start_datetime']}, strict=False), type='function')], truncation_strategy=TruncationStrategy(type='auto', last_messages=None), usage=Usage(completion_tokens=256, prompt_tokens=3473, total_tokens=3729, prompt_token_details={'cached_tokens': 0}, completion_tokens_details={'reasoning_tokens': 0}), temperature=1.0, top_p=1.0, tool_resources={}, reasoning_effort=None)\n"
     ]
    }
   ],
   "source": [
    "print(response_after_tool_calls)"
   ]
  },
  {
   "cell_type": "code",
   "execution_count": 155,
   "id": "9b65f790",
   "metadata": {},
   "outputs": [
    {
     "name": "stderr",
     "output_type": "stream",
     "text": [
      "/tmp/ipykernel_5270/29257048.py:2: DeprecationWarning: The Assistants API is deprecated in favor of the Responses API\n",
      "  messages = openai_client.beta.threads.messages.list(thread_id=thread.id)\n"
     ]
    }
   ],
   "source": [
    "# Fetch the latest messages from the thread to get the assistant's summary\n",
    "messages = openai_client.beta.threads.messages.list(thread_id=thread.id)"
   ]
  },
  {
   "cell_type": "code",
   "execution_count": 156,
   "id": "19fd103c",
   "metadata": {},
   "outputs": [
    {
     "name": "stdout",
     "output_type": "stream",
     "text": [
      "\n",
      "=== Assistant's Action Summary ===\n",
      "The event titled \"meeting: product direction and price discussion\" has been successfully created. It is scheduled for June 12, 2025, from 16:00 to 18:00 UTC. Here are the details:\n",
      "\n",
      "- **Description:** showcase project progress and updates\n",
      "- **Attendees:**\n",
      "  - jay20020109@gmail.com (Organizer)\n",
      "  - mh989@cornell.edu\n",
      "  - z00183@mpinfo.com.tw\n",
      "\n",
      "You can view and manage the event via [this link](https://www.google.com/calendar/event?eid=dDNndjNsMG9jajJzdXFjcWtldXBncWhvcGsgamF5MjAwMjAxMDlAbQ).\n",
      "\n",
      "If you need to make any changes or add additional details, let me know!\n"
     ]
    }
   ],
   "source": [
    "# Usually, the last message will be the assistant's output after tool execution\n",
    "if messages.data:\n",
    "    last_message = messages.data[0]  # The newest message is usually at index 0\n",
    "    print(\"\\n=== Assistant's Action Summary ===\")\n",
    "    print(last_message.content[0].text.value)\n",
    "else:\n",
    "    print(\"No messages found in thread.\")"
   ]
  }
 ],
 "metadata": {
  "kernelspec": {
   "display_name": ".venv",
   "language": "python",
   "name": "python3"
  },
  "language_info": {
   "codemirror_mode": {
    "name": "ipython",
    "version": 3
   },
   "file_extension": ".py",
   "mimetype": "text/x-python",
   "name": "python",
   "nbconvert_exporter": "python",
   "pygments_lexer": "ipython3",
   "version": "3.12.1"
  }
 },
 "nbformat": 4,
 "nbformat_minor": 5
}
