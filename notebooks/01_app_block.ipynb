{
 "cells": [
  {
   "cell_type": "code",
   "execution_count": 7,
   "id": "98cee56f",
   "metadata": {},
   "outputs": [],
   "source": [
    "from dotenv import load_dotenv\n",
    "import os\n",
    "from openai import OpenAI\n",
    "from composio_openai import ComposioToolSet, Action"
   ]
  },
  {
   "cell_type": "code",
   "execution_count": 2,
   "id": "6566e1fd",
   "metadata": {},
   "outputs": [
    {
     "data": {
      "text/plain": [
       "True"
      ]
     },
     "execution_count": 2,
     "metadata": {},
     "output_type": "execute_result"
    }
   ],
   "source": [
    "load_dotenv() "
   ]
  },
  {
   "cell_type": "code",
   "execution_count": 3,
   "id": "c93d5ace",
   "metadata": {},
   "outputs": [],
   "source": [
    "composio_key = os.environ.get(\"COMPOSIO_API_KEY\")\n",
    "openai_key = os.environ.get(\"OPENAI_API_KEY\")"
   ]
  },
  {
   "cell_type": "code",
   "execution_count": 6,
   "id": "c9fc9dc9",
   "metadata": {},
   "outputs": [
    {
     "name": "stdout",
     "output_type": "stream",
     "text": [
      "Composio key loaded: True\n",
      "OpenAI key loaded: True\n"
     ]
    }
   ],
   "source": [
    "print(\"Composio key loaded:\", bool(composio_key))\n",
    "print(\"OpenAI key loaded:\", bool(openai_key))"
   ]
  },
  {
   "cell_type": "code",
   "execution_count": null,
   "id": "cb678f06",
   "metadata": {},
   "outputs": [],
   "source": [
    "# Initialize OpenAI client\n",
    "openai_client = OpenAI(api_key=openai_key)"
   ]
  },
  {
   "cell_type": "code",
   "execution_count": 9,
   "id": "9b038744",
   "metadata": {},
   "outputs": [
    {
     "name": "stderr",
     "output_type": "stream",
     "text": [
      "[2025-06-11 07:33:26,347][INFO] Actions cache is outdated, refreshing cache...\n"
     ]
    }
   ],
   "source": [
    "# Initialize the Composio Tool Set\n",
    "composio_tool_set = ComposioToolSet(api_key=composio_key)"
   ]
  },
  {
   "cell_type": "code",
   "execution_count": 11,
   "id": "233a4aca",
   "metadata": {},
   "outputs": [],
   "source": [
    "tools = composio_tool_set.get_tools(\n",
    "    actions=[Action.GITHUB_STAR_A_REPOSITORY_FOR_THE_AUTHENTICATED_USER]\n",
    ")"
   ]
  },
  {
   "cell_type": "code",
   "execution_count": 19,
   "id": "9a09346d",
   "metadata": {},
   "outputs": [],
   "source": [
    "my_task = \"Star a repo JAYHUANG0109/m_power_n8n on GitHub\""
   ]
  },
  {
   "cell_type": "code",
   "execution_count": 20,
   "id": "b2548723",
   "metadata": {},
   "outputs": [],
   "source": [
    "assistant_instruction = \"You are a super intelligent personal assistant\"\n",
    "assistant = openai_client.beta.assistants.create(\n",
    "    name=\"Personal Assistant\",\n",
    "    instructions=assistant_instruction,\n",
    "    model=\"gpt-4-turbo\",\n",
    "    tools=tools,\n",
    ")"
   ]
  },
  {
   "cell_type": "code",
   "execution_count": 21,
   "id": "fc533311",
   "metadata": {},
   "outputs": [
    {
     "name": "stderr",
     "output_type": "stream",
     "text": [
      "/tmp/ipykernel_43611/3829351525.py:1: DeprecationWarning: The Assistants API is deprecated in favor of the Responses API\n",
      "  thread = openai_client.beta.threads.create()\n"
     ]
    }
   ],
   "source": [
    "thread = openai_client.beta.threads.create()"
   ]
  },
  {
   "cell_type": "code",
   "execution_count": 22,
   "id": "b7166854",
   "metadata": {},
   "outputs": [
    {
     "name": "stderr",
     "output_type": "stream",
     "text": [
      "/tmp/ipykernel_43611/4100934983.py:1: DeprecationWarning: The Assistants API is deprecated in favor of the Responses API\n",
      "  message = openai_client.beta.threads.messages.create(\n"
     ]
    }
   ],
   "source": [
    "message = openai_client.beta.threads.messages.create(\n",
    "    thread_id=thread.id,\n",
    "    role=\"user\",\n",
    "    content=my_task\n",
    ")"
   ]
  },
  {
   "cell_type": "code",
   "execution_count": 23,
   "id": "6d31c46b",
   "metadata": {},
   "outputs": [
    {
     "name": "stderr",
     "output_type": "stream",
     "text": [
      "/tmp/ipykernel_43611/2438797514.py:1: DeprecationWarning: The Assistants API is deprecated in favor of the Responses API\n",
      "  run = openai_client.beta.threads.runs.create(\n"
     ]
    }
   ],
   "source": [
    "run = openai_client.beta.threads.runs.create(\n",
    "    thread_id=thread.id,\n",
    "    assistant_id=assistant.id\n",
    ")"
   ]
  },
  {
   "cell_type": "code",
   "execution_count": 24,
   "id": "a1af8fd8",
   "metadata": {},
   "outputs": [],
   "source": [
    "response_after_tool_calls = composio_tool_set.wait_and_handle_assistant_tool_calls(\n",
    "    client=openai_client,\n",
    "    run=run,\n",
    "    thread=thread,\n",
    ")"
   ]
  },
  {
   "cell_type": "code",
   "execution_count": 25,
   "id": "405397ad",
   "metadata": {},
   "outputs": [
    {
     "name": "stdout",
     "output_type": "stream",
     "text": [
      "Run(id='run_rIbmbwo6gbopNzR4diBdYqUj', assistant_id='asst_N0VeJUIn4sZv16GlpQqIJKJr', cancelled_at=None, completed_at=1749630767, created_at=1749630517, expires_at=None, failed_at=None, incomplete_details=None, instructions='You are a super intelligent personal assistant', last_error=None, max_completion_tokens=None, max_prompt_tokens=None, metadata={}, model='gpt-4-turbo', object='thread.run', parallel_tool_calls=True, required_action=None, response_format='auto', started_at=1749630765, status='completed', thread_id='thread_nYqRQLmsW9m7RnTm24fbm6Lq', tool_choice='auto', tools=[FunctionTool(function=FunctionDefinition(name='GITHUB_STAR_A_REPOSITORY_FOR_THE_AUTHENTICATED_USER', description='Stars an existing and accessible repository for the authenticated user; this action is idempotent and succeeds even if the repository is already starred.', parameters={'properties': {'owner': {'description': 'The username of the account that owns the repository. This field is not case-sensitive. Please provide a value of type string. This parameter is required.', 'examples': ['octocat', 'torvalds'], 'title': 'Owner', 'type': 'string'}, 'repo': {'description': 'The name of the repository, without the `.git` extension. This field is not case-sensitive. Please provide a value of type string. This parameter is required.', 'examples': ['hello-world', 'linux'], 'title': 'Repo', 'type': 'string'}}, 'title': 'StarARepositoryForTheAuthenticatedUserRequest', 'type': 'object', 'required': ['owner', 'repo']}, strict=False), type='function')], truncation_strategy=TruncationStrategy(type='auto', last_messages=None), usage=Usage(completion_tokens=77, prompt_tokens=962, total_tokens=1039, prompt_token_details={'cached_tokens': 0}, completion_tokens_details={'reasoning_tokens': 0}), temperature=1.0, top_p=1.0, tool_resources={}, reasoning_effort=None)\n"
     ]
    }
   ],
   "source": [
    "print(response_after_tool_calls)"
   ]
  },
  {
   "cell_type": "code",
   "execution_count": null,
   "id": "9b65f790",
   "metadata": {},
   "outputs": [],
   "source": []
  }
 ],
 "metadata": {
  "kernelspec": {
   "display_name": ".venv",
   "language": "python",
   "name": "python3"
  },
  "language_info": {
   "codemirror_mode": {
    "name": "ipython",
    "version": 3
   },
   "file_extension": ".py",
   "mimetype": "text/x-python",
   "name": "python",
   "nbconvert_exporter": "python",
   "pygments_lexer": "ipython3",
   "version": "3.12.1"
  }
 },
 "nbformat": 4,
 "nbformat_minor": 5
}
